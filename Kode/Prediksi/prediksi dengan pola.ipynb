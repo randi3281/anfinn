{
 "cells": [
  {
   "cell_type": "markdown",
   "metadata": {},
   "source": [
    "# Prediksi dengan Pola y = 2x - 1"
   ]
  },
  {
   "cell_type": "code",
   "execution_count": 24,
   "metadata": {},
   "outputs": [],
   "source": [
    "import numpy as np\n",
    "\n",
    "x_train = np.array([0, 1, 2, 3, 4, 5], dtype=float) # Input\n",
    "y_train = np.array([-1, 1, 3, 5, 7, 9], dtype=float) # Ouput ( y = 2x - 1)"
   ]
  },
  {
   "cell_type": "code",
   "execution_count": 33,
   "metadata": {},
   "outputs": [
    {
     "name": "stdout",
     "output_type": "stream",
     "text": [
      "Mulai pelatihan...\n",
      "Pelatihan selesai\n"
     ]
    }
   ],
   "source": [
    "import tensorflow as tf\n",
    "from tensorflow import keras\n",
    "from tensorflow.keras import layers\n",
    "from tensorflow.keras import Sequential as model\n",
    "from tensorflow.keras.layers import Dense\n",
    "from tensorflow.keras.callbacks import ModelCheckpoint as checkpoint\n",
    "\n",
    "model = model([\n",
    "    Dense(units=1, input_shape=[1]) # 1 neuron, input 1 fitur\n",
    "])\n",
    "\n",
    "model.compile(optimizer='sgd', loss='mean_squared_error') # SGD dan MSE untuk masalah regresi\n",
    "\n",
    "checkpoint = checkpoint('model_prediksi_y.h5', monitor='accuracy', save_best_only=True, mode='max', verbose=0)\n",
    "\n",
    "print(\"Mulai pelatihan...\")\n",
    "history = model.fit(x_train, y_train, epochs=2000, verbose=0, callbacks=[checkpoint])\n",
    "print(\"Pelatihan selesai\")"
   ]
  },
  {
   "cell_type": "code",
   "execution_count": 39,
   "metadata": {},
   "outputs": [
    {
     "name": "stdout",
     "output_type": "stream",
     "text": [
      "\u001b[1m1/1\u001b[0m \u001b[32m━━━━━━━━━━━━━━━━━━━━\u001b[0m\u001b[37m\u001b[0m \u001b[1m0s\u001b[0m 48ms/step\n",
      "Prediksi:\n",
      "x = 6.0 -> yu = 11.00\n",
      "x = 7.0 -> yu = 13.00\n",
      "x = 8.0 -> yu = 15.00\n"
     ]
    }
   ],
   "source": [
    "x_test = np.array([6, 7, 8], dtype=float)\n",
    "predictions = model.predict(x_test)\n",
    "\n",
    "print(\"Prediksi:\")\n",
    "for i, pred in enumerate(predictions):\n",
    "    print(f\"x = {x_test[i]} -> yu = {pred[0]:.2f}\")"
   ]
  }
 ],
 "metadata": {
  "kernelspec": {
   "display_name": "Python 3",
   "language": "python",
   "name": "python3"
  },
  "language_info": {
   "codemirror_mode": {
    "name": "ipython",
    "version": 3
   },
   "file_extension": ".py",
   "mimetype": "text/x-python",
   "name": "python",
   "nbconvert_exporter": "python",
   "pygments_lexer": "ipython3",
   "version": "3.10.0"
  }
 },
 "nbformat": 4,
 "nbformat_minor": 2
}
