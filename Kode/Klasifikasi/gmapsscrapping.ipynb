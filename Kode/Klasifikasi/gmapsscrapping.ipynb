{
 "cells": [
  {
   "cell_type": "code",
   "execution_count": 6,
   "metadata": {},
   "outputs": [
    {
     "name": "stdout",
     "output_type": "stream",
     "text": [
      "Requirement already satisfied: selenium in c:\\users\\anfiniti\\appdata\\local\\programs\\python\\python310\\lib\\site-packages (4.28.1)\n",
      "Requirement already satisfied: parsel in c:\\users\\anfiniti\\appdata\\local\\programs\\python\\python310\\lib\\site-packages (1.10.0)\n",
      "Requirement already satisfied: trio-websocket~=0.9 in c:\\users\\anfiniti\\appdata\\local\\programs\\python\\python310\\lib\\site-packages (from selenium) (0.11.1)\n",
      "Requirement already satisfied: urllib3[socks]<3,>=1.26 in c:\\users\\anfiniti\\appdata\\local\\programs\\python\\python310\\lib\\site-packages (from selenium) (2.3.0)\n",
      "Requirement already satisfied: websocket-client~=1.8 in c:\\users\\anfiniti\\appdata\\local\\programs\\python\\python310\\lib\\site-packages (from selenium) (1.8.0)\n",
      "Requirement already satisfied: certifi>=2021.10.8 in c:\\users\\anfiniti\\appdata\\local\\programs\\python\\python310\\lib\\site-packages (from selenium) (2024.12.14)\n",
      "Requirement already satisfied: trio~=0.17 in c:\\users\\anfiniti\\appdata\\local\\programs\\python\\python310\\lib\\site-packages (from selenium) (0.28.0)\n",
      "Requirement already satisfied: typing_extensions~=4.9 in c:\\users\\anfiniti\\appdata\\roaming\\python\\python310\\site-packages (from selenium) (4.12.2)\n",
      "Requirement already satisfied: packaging in c:\\users\\anfiniti\\appdata\\roaming\\python\\python310\\site-packages (from parsel) (24.2)\n",
      "Requirement already satisfied: w3lib>=1.19.0 in c:\\users\\anfiniti\\appdata\\local\\programs\\python\\python310\\lib\\site-packages (from parsel) (2.3.1)\n",
      "Requirement already satisfied: cssselect>=1.2.0 in c:\\users\\anfiniti\\appdata\\local\\programs\\python\\python310\\lib\\site-packages (from parsel) (1.2.0)\n",
      "Requirement already satisfied: jmespath in c:\\users\\anfiniti\\appdata\\local\\programs\\python\\python310\\lib\\site-packages (from parsel) (1.0.1)\n",
      "Requirement already satisfied: lxml in c:\\users\\anfiniti\\appdata\\local\\programs\\python\\python310\\lib\\site-packages (from parsel) (5.3.0)\n",
      "Requirement already satisfied: outcome in c:\\users\\anfiniti\\appdata\\local\\programs\\python\\python310\\lib\\site-packages (from trio~=0.17->selenium) (1.3.0.post0)\n",
      "Requirement already satisfied: sniffio>=1.3.0 in c:\\users\\anfiniti\\appdata\\local\\programs\\python\\python310\\lib\\site-packages (from trio~=0.17->selenium) (1.3.1)\n",
      "Requirement already satisfied: exceptiongroup in c:\\users\\anfiniti\\appdata\\roaming\\python\\python310\\site-packages (from trio~=0.17->selenium) (1.2.2)\n",
      "Requirement already satisfied: attrs>=23.2.0 in c:\\users\\anfiniti\\appdata\\local\\programs\\python\\python310\\lib\\site-packages (from trio~=0.17->selenium) (25.1.0)\n",
      "Requirement already satisfied: cffi>=1.14 in c:\\users\\anfiniti\\appdata\\local\\programs\\python\\python310\\lib\\site-packages (from trio~=0.17->selenium) (1.17.1)\n",
      "Requirement already satisfied: idna in c:\\users\\anfiniti\\appdata\\local\\programs\\python\\python310\\lib\\site-packages (from trio~=0.17->selenium) (3.10)\n",
      "Requirement already satisfied: sortedcontainers in c:\\users\\anfiniti\\appdata\\local\\programs\\python\\python310\\lib\\site-packages (from trio~=0.17->selenium) (2.4.0)\n",
      "Requirement already satisfied: pycparser in c:\\users\\anfiniti\\appdata\\local\\programs\\python\\python310\\lib\\site-packages (from cffi>=1.14->trio~=0.17->selenium) (2.22)\n",
      "Requirement already satisfied: wsproto>=0.14 in c:\\users\\anfiniti\\appdata\\local\\programs\\python\\python310\\lib\\site-packages (from trio-websocket~=0.9->selenium) (1.2.0)\n",
      "Requirement already satisfied: pysocks!=1.5.7,<2.0,>=1.5.6 in c:\\users\\anfiniti\\appdata\\local\\programs\\python\\python310\\lib\\site-packages (from urllib3[socks]<3,>=1.26->selenium) (1.7.1)\n",
      "Requirement already satisfied: h11<1,>=0.9.0 in c:\\users\\anfiniti\\appdata\\local\\programs\\python\\python310\\lib\\site-packages (from wsproto>=0.14->trio-websocket~=0.9->selenium) (0.14.0)\n",
      "Note: you may need to restart the kernel to use updated packages.\n"
     ]
    },
    {
     "name": "stderr",
     "output_type": "stream",
     "text": [
      "WARNING: You are using pip version 21.2.3; however, version 24.3.1 is available.\n",
      "You should consider upgrading via the 'c:\\Users\\anfiniti\\AppData\\Local\\Programs\\Python\\Python310\\python.exe -m pip install --upgrade pip' command.\n"
     ]
    }
   ],
   "source": [
    "%pip install selenium parsel"
   ]
  },
  {
   "cell_type": "code",
   "execution_count": 34,
   "metadata": {},
   "outputs": [
    {
     "name": "stdout",
     "output_type": "stream",
     "text": [
      "Reached the bottom of the reviews.\n"
     ]
    }
   ],
   "source": [
    "from selenium import webdriver\n",
    "from selenium.webdriver.chrome.service import Service  # Import Service untuk mendefinisikan path\n",
    "from selenium.webdriver.common.by import By\n",
    "from selenium.webdriver.support.ui import WebDriverWait\n",
    "from selenium.webdriver.support import expected_conditions as EC\n",
    "import time\n",
    "import csv\n",
    "import pandas as pd\n",
    "\n",
    "# Buat list untuk menyimpan data\n",
    "data = []\n",
    "\n",
    "# Tentukan path ke Chromedriver\n",
    "chromedriver_path = './chromedriver.exe'  # Ubah sesuai lokasi file Anda\n",
    "\n",
    "# Buat objek Service dengan path driver\n",
    "service = Service(chromedriver_path)\n",
    "\n",
    "# Opsi untuk membuka Chrome dalam bahasa Indonesia dan menonaktifkan pemuatan gambar\n",
    "options = webdriver.ChromeOptions()\n",
    "options.add_argument(\"--lang=id\")\n",
    "options.add_argument(\"--headless\")\n",
    "options.add_argument(\"--disable-gpu\")\n",
    "options.add_argument(\"--window-size=1920,1080\")\n",
    "prefs = {\"profile.managed_default_content_settings.images\": 2}\n",
    "options.add_experimental_option(\"prefs\", prefs)\n",
    "\n",
    "# Inisialisasi webdriver dengan opsi\n",
    "driver = webdriver.Chrome(service=service, options=options)\n",
    "\n",
    "# Buka halaman web\n",
    "driver.get(\"https://maps.app.goo.gl/fMaHmC9xszQrcrHB6\")\n",
    "\n",
    "# Tunggu elemen tombol \"Lihat Semua Ulasan\" muncul\n",
    "try:\n",
    "    see_all_reviews_button = WebDriverWait(driver, 10).until(\n",
    "        EC.presence_of_element_located((By.XPATH, '//button[contains(@aria-label, \"Ulasan untuk Universitas Stikubank (Unisbank) Semarang\")]'))\n",
    "    )\n",
    "    see_all_reviews_button.click()\n",
    "except Exception as e:\n",
    "    print(\"Tombol 'Lihat Semua Ulasan' tidak ditemukan:\", e)\n",
    "    driver.quit()\n",
    "\n",
    "def scroll_to_load_reviews():\n",
    "    try:\n",
    "        # Tunggu hingga elemen scrollable muncul\n",
    "        scrollable_div = WebDriverWait(driver, 10).until(\n",
    "            EC.presence_of_element_located((By.XPATH, '//div[@class=\"m6QErb DxyBCb kA9KIf dS8AEf XiKgde \"]'))\n",
    "        )\n",
    "\n",
    "        last_height = 0  # Inisialisasi ketinggian sebelumnya\n",
    "        while True:\n",
    "            # Scroll ke bawah\n",
    "            driver.execute_script(\"arguments[0].scrollTop = arguments[0].scrollHeight\", scrollable_div)\n",
    "            time.sleep(5)  # Tunggu loading selesai\n",
    "\n",
    "            # Dapatkan ketinggian kontainer setelah scroll\n",
    "            new_height = driver.execute_script(\"return arguments[0].scrollHeight\", scrollable_div)\n",
    "\n",
    "            # Jika ketinggian tidak berubah, artinya sudah sampai ujung\n",
    "            if new_height == last_height:\n",
    "                print(\"Reached the bottom of the reviews.\")\n",
    "                break\n",
    "\n",
    "            # Perbarui ketinggian terakhir\n",
    "            last_height = new_height\n",
    "    except Exception as e:\n",
    "        print(f\"Error during scrolling: {e}\")\n",
    "\n",
    "# Scroll untuk memuat review\n",
    "scroll_to_load_reviews()\n",
    "\n",
    "# Ambil review\n",
    "reviews = driver.find_elements(By.XPATH, '//div[@class=\"jftiEf fontBodyMedium \"]')\n",
    "stars = driver.find_elements(By.XPATH, '//span[@class=\"kvMYJc\"]')\n",
    "\n",
    "# Proses data\n",
    "for review, star in zip(reviews, stars):\n",
    "    try:\n",
    "        username = review.find_element(By.XPATH, './/div[@class=\"d4r55 \"]').text\n",
    "    except:\n",
    "        username = \"Anonymous\"\n",
    "    try:\n",
    "        review_text = review.find_element(By.XPATH, './/span[@class=\"wiI7pd\"]').text\n",
    "    except:\n",
    "        review_text = \"No review text\"\n",
    "    try:\n",
    "        star_count = star.get_attribute(\"aria-label\").split()[0]  # Ambil angka bintang\n",
    "    except:\n",
    "        star_count = \"0\"\n",
    "\n",
    "    # Tambahkan data ke list\n",
    "    data.append([username, review_text, star_count])\n",
    "\n",
    "# Tutup browser\n",
    "driver.quit()"
   ]
  },
  {
   "cell_type": "code",
   "execution_count": 35,
   "metadata": {},
   "outputs": [],
   "source": [
    "# Buat DataFrame dari data\n",
    "df_reviews = pd.DataFrame(data, columns=['Username', 'Review', 'Stars'])\n",
    "df_reviews.to_csv('reviews.csv', index=False)"
   ]
  },
  {
   "cell_type": "code",
   "execution_count": 36,
   "metadata": {},
   "outputs": [
    {
     "data": {
      "text/plain": [
       "360"
      ]
     },
     "execution_count": 36,
     "metadata": {},
     "output_type": "execute_result"
    }
   ],
   "source": [
    "len(df_reviews)"
   ]
  },
  {
   "cell_type": "code",
   "execution_count": 37,
   "metadata": {},
   "outputs": [
    {
     "data": {
      "text/html": [
       "<div>\n",
       "<style scoped>\n",
       "    .dataframe tbody tr th:only-of-type {\n",
       "        vertical-align: middle;\n",
       "    }\n",
       "\n",
       "    .dataframe tbody tr th {\n",
       "        vertical-align: top;\n",
       "    }\n",
       "\n",
       "    .dataframe thead th {\n",
       "        text-align: right;\n",
       "    }\n",
       "</style>\n",
       "<table border=\"1\" class=\"dataframe\">\n",
       "  <thead>\n",
       "    <tr style=\"text-align: right;\">\n",
       "      <th></th>\n",
       "      <th>Username</th>\n",
       "      <th>Review</th>\n",
       "      <th>Stars</th>\n",
       "    </tr>\n",
       "  </thead>\n",
       "  <tbody>\n",
       "    <tr>\n",
       "      <th>0</th>\n",
       "      <td>Irfan fathurrahman</td>\n",
       "      <td>Safari Jateng di Batang merupakan salah satu d...</td>\n",
       "      <td>4</td>\n",
       "    </tr>\n",
       "    <tr>\n",
       "      <th>1</th>\n",
       "      <td>Ummu Nufaisah</td>\n",
       "      <td>Taman satwa di pantai,tiket masuk dws 80rb,ana...</td>\n",
       "      <td>4</td>\n",
       "    </tr>\n",
       "    <tr>\n",
       "      <th>2</th>\n",
       "      <td>Uni Anila</td>\n",
       "      <td>Kalau mau ke sini, lebih enak sih seharian sek...</td>\n",
       "      <td>4</td>\n",
       "    </tr>\n",
       "    <tr>\n",
       "      <th>3</th>\n",
       "      <td>Imam Santosa</td>\n",
       "      <td>Safari Beach Jateng\\n\\nMerupakan tempat wisata...</td>\n",
       "      <td>4</td>\n",
       "    </tr>\n",
       "    <tr>\n",
       "      <th>4</th>\n",
       "      <td>Citra Patriani</td>\n",
       "      <td>Di rekomendasikan buat yg sayang dgn kluarga, ...</td>\n",
       "      <td>5</td>\n",
       "    </tr>\n",
       "  </tbody>\n",
       "</table>\n",
       "</div>"
      ],
      "text/plain": [
       "             Username                                             Review Stars\n",
       "0  Irfan fathurrahman  Safari Jateng di Batang merupakan salah satu d...     4\n",
       "1       Ummu Nufaisah  Taman satwa di pantai,tiket masuk dws 80rb,ana...     4\n",
       "2           Uni Anila  Kalau mau ke sini, lebih enak sih seharian sek...     4\n",
       "3        Imam Santosa  Safari Beach Jateng\\n\\nMerupakan tempat wisata...     4\n",
       "4      Citra Patriani  Di rekomendasikan buat yg sayang dgn kluarga, ...     5"
      ]
     },
     "execution_count": 37,
     "metadata": {},
     "output_type": "execute_result"
    }
   ],
   "source": [
    "df_reviews.head()"
   ]
  }
 ],
 "metadata": {
  "kernelspec": {
   "display_name": "Python 3",
   "language": "python",
   "name": "python3"
  },
  "language_info": {
   "codemirror_mode": {
    "name": "ipython",
    "version": 3
   },
   "file_extension": ".py",
   "mimetype": "text/x-python",
   "name": "python",
   "nbconvert_exporter": "python",
   "pygments_lexer": "ipython3",
   "version": "3.10.0"
  }
 },
 "nbformat": 4,
 "nbformat_minor": 2
}
