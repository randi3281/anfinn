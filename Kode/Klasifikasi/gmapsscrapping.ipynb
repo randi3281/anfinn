{
 "cells": [
  {
   "cell_type": "code",
   "execution_count": 31,
   "metadata": {},
   "outputs": [
    {
     "name": "stdout",
     "output_type": "stream",
     "text": [
      "Requirement already satisfied: selenium in c:\\users\\anfiniti\\appdata\\local\\programs\\python\\python310\\lib\\site-packages (4.28.1)Note: you may need to restart the kernel to use updated packages.\n"
     ]
    },
    {
     "name": "stderr",
     "output_type": "stream",
     "text": [
      "WARNING: You are using pip version 21.2.3; however, version 25.0 is available.\n",
      "You should consider upgrading via the 'c:\\Users\\anfiniti\\AppData\\Local\\Programs\\Python\\Python310\\python.exe -m pip install --upgrade pip' command.\n"
     ]
    },
    {
     "name": "stdout",
     "output_type": "stream",
     "text": [
      "\n",
      "Requirement already satisfied: parsel in c:\\users\\anfiniti\\appdata\\local\\programs\\python\\python310\\lib\\site-packages (1.10.0)\n",
      "Requirement already satisfied: urllib3[socks]<3,>=1.26 in c:\\users\\anfiniti\\appdata\\local\\programs\\python\\python310\\lib\\site-packages (from selenium) (2.3.0)\n",
      "Requirement already satisfied: websocket-client~=1.8 in c:\\users\\anfiniti\\appdata\\local\\programs\\python\\python310\\lib\\site-packages (from selenium) (1.8.0)\n",
      "Requirement already satisfied: trio~=0.17 in c:\\users\\anfiniti\\appdata\\local\\programs\\python\\python310\\lib\\site-packages (from selenium) (0.28.0)\n",
      "Requirement already satisfied: trio-websocket~=0.9 in c:\\users\\anfiniti\\appdata\\local\\programs\\python\\python310\\lib\\site-packages (from selenium) (0.11.1)\n",
      "Requirement already satisfied: typing_extensions~=4.9 in c:\\users\\anfiniti\\appdata\\local\\programs\\python\\python310\\lib\\site-packages (from selenium) (4.12.2)\n",
      "Requirement already satisfied: certifi>=2021.10.8 in c:\\users\\anfiniti\\appdata\\local\\programs\\python\\python310\\lib\\site-packages (from selenium) (2024.12.14)\n",
      "Requirement already satisfied: cssselect>=1.2.0 in c:\\users\\anfiniti\\appdata\\local\\programs\\python\\python310\\lib\\site-packages (from parsel) (1.2.0)\n",
      "Requirement already satisfied: lxml in c:\\users\\anfiniti\\appdata\\local\\programs\\python\\python310\\lib\\site-packages (from parsel) (5.3.0)\n",
      "Requirement already satisfied: w3lib>=1.19.0 in c:\\users\\anfiniti\\appdata\\local\\programs\\python\\python310\\lib\\site-packages (from parsel) (2.3.1)\n",
      "Requirement already satisfied: jmespath in c:\\users\\anfiniti\\appdata\\local\\programs\\python\\python310\\lib\\site-packages (from parsel) (1.0.1)\n",
      "Requirement already satisfied: packaging in c:\\users\\anfiniti\\appdata\\roaming\\python\\python310\\site-packages (from parsel) (24.2)\n",
      "Requirement already satisfied: outcome in c:\\users\\anfiniti\\appdata\\local\\programs\\python\\python310\\lib\\site-packages (from trio~=0.17->selenium) (1.3.0.post0)\n",
      "Requirement already satisfied: exceptiongroup in c:\\users\\anfiniti\\appdata\\roaming\\python\\python310\\site-packages (from trio~=0.17->selenium) (1.2.2)\n",
      "Requirement already satisfied: idna in c:\\users\\anfiniti\\appdata\\local\\programs\\python\\python310\\lib\\site-packages (from trio~=0.17->selenium) (3.10)\n",
      "Requirement already satisfied: sniffio>=1.3.0 in c:\\users\\anfiniti\\appdata\\local\\programs\\python\\python310\\lib\\site-packages (from trio~=0.17->selenium) (1.3.1)\n",
      "Requirement already satisfied: attrs>=23.2.0 in c:\\users\\anfiniti\\appdata\\local\\programs\\python\\python310\\lib\\site-packages (from trio~=0.17->selenium) (25.1.0)\n",
      "Requirement already satisfied: sortedcontainers in c:\\users\\anfiniti\\appdata\\local\\programs\\python\\python310\\lib\\site-packages (from trio~=0.17->selenium) (2.4.0)\n",
      "Requirement already satisfied: cffi>=1.14 in c:\\users\\anfiniti\\appdata\\local\\programs\\python\\python310\\lib\\site-packages (from trio~=0.17->selenium) (1.17.1)\n",
      "Requirement already satisfied: pycparser in c:\\users\\anfiniti\\appdata\\local\\programs\\python\\python310\\lib\\site-packages (from cffi>=1.14->trio~=0.17->selenium) (2.22)\n",
      "Requirement already satisfied: wsproto>=0.14 in c:\\users\\anfiniti\\appdata\\local\\programs\\python\\python310\\lib\\site-packages (from trio-websocket~=0.9->selenium) (1.2.0)\n",
      "Requirement already satisfied: pysocks!=1.5.7,<2.0,>=1.5.6 in c:\\users\\anfiniti\\appdata\\local\\programs\\python\\python310\\lib\\site-packages (from urllib3[socks]<3,>=1.26->selenium) (1.7.1)\n",
      "Requirement already satisfied: h11<1,>=0.9.0 in c:\\users\\anfiniti\\appdata\\local\\programs\\python\\python310\\lib\\site-packages (from wsproto>=0.14->trio-websocket~=0.9->selenium) (0.14.0)\n"
     ]
    }
   ],
   "source": [
    "%pip install selenium parsel"
   ]
  },
  {
   "cell_type": "code",
   "execution_count": 12,
   "metadata": {},
   "outputs": [
    {
     "name": "stdout",
     "output_type": "stream",
     "text": [
      "Tidak ada tombol untuk melihat semua ulasan.\n"
     ]
    },
    {
     "ename": "TimeoutException",
     "evalue": "Message: \nStacktrace:\nBacktrace:\n\tGetHandleVerifier [0x0035A813+48355]\n\t(No symbol) [0x002EC4B1]\n\t(No symbol) [0x001F5358]\n\t(No symbol) [0x002209A5]\n\t(No symbol) [0x00220B3B]\n\t(No symbol) [0x0024E232]\n\t(No symbol) [0x0023A784]\n\t(No symbol) [0x0024C922]\n\t(No symbol) [0x0023A536]\n\t(No symbol) [0x002182DC]\n\t(No symbol) [0x002193DD]\n\tGetHandleVerifier [0x005BAABD+2539405]\n\tGetHandleVerifier [0x005FA78F+2800735]\n\tGetHandleVerifier [0x005F456C+2775612]\n\tGetHandleVerifier [0x003E51E0+616112]\n\t(No symbol) [0x002F5F8C]\n\t(No symbol) [0x002F2328]\n\t(No symbol) [0x002F240B]\n\t(No symbol) [0x002E4FF7]\n\tBaseThreadInitThunk [0x75547BA9+25]\n\tRtlInitializeExceptionChain [0x773FC0CB+107]\n\tRtlClearBits [0x773FC04F+191]\n",
     "output_type": "error",
     "traceback": [
      "\u001b[1;31m---------------------------------------------------------------------------\u001b[0m",
      "\u001b[1;31mTimeoutException\u001b[0m                          Traceback (most recent call last)",
      "Cell \u001b[1;32mIn[12], line 39\u001b[0m\n\u001b[0;32m     36\u001b[0m     \u001b[38;5;28mprint\u001b[39m(\u001b[38;5;124m\"\u001b[39m\u001b[38;5;124mTidak ada tombol untuk melihat semua ulasan.\u001b[39m\u001b[38;5;124m\"\u001b[39m)\n\u001b[0;32m     38\u001b[0m \u001b[38;5;66;03m# Scroll untuk memuat lebih banyak ulasan\u001b[39;00m\n\u001b[1;32m---> 39\u001b[0m \u001b[43mscroll_to_load_reviews\u001b[49m\u001b[43m(\u001b[49m\u001b[43m)\u001b[49m\n\u001b[0;32m     41\u001b[0m \u001b[38;5;66;03m# Fungsi untuk mengambil ulasan dan bintang\u001b[39;00m\n\u001b[0;32m     42\u001b[0m \u001b[38;5;28;01mdef\u001b[39;00m\u001b[38;5;250m \u001b[39m\u001b[38;5;21mget_reviews_and_stars\u001b[39m():\n",
      "Cell \u001b[1;32mIn[12], line 23\u001b[0m, in \u001b[0;36mscroll_to_load_reviews\u001b[1;34m()\u001b[0m\n\u001b[0;32m     21\u001b[0m \u001b[38;5;28;01mdef\u001b[39;00m\u001b[38;5;250m \u001b[39m\u001b[38;5;21mscroll_to_load_reviews\u001b[39m():\n\u001b[0;32m     22\u001b[0m     \u001b[38;5;28;01mfor\u001b[39;00m _ \u001b[38;5;129;01min\u001b[39;00m \u001b[38;5;28mrange\u001b[39m(\u001b[38;5;241m5\u001b[39m):  \u001b[38;5;66;03m# Scroll 5 kali\u001b[39;00m\n\u001b[1;32m---> 23\u001b[0m         scrollable_div \u001b[38;5;241m=\u001b[39m \u001b[43mWebDriverWait\u001b[49m\u001b[43m(\u001b[49m\u001b[43mdriver\u001b[49m\u001b[43m,\u001b[49m\u001b[43m \u001b[49m\u001b[38;5;241;43m10\u001b[39;49m\u001b[43m)\u001b[49m\u001b[38;5;241;43m.\u001b[39;49m\u001b[43muntil\u001b[49m\u001b[43m(\u001b[49m\n\u001b[0;32m     24\u001b[0m \u001b[43m            \u001b[49m\u001b[43mEC\u001b[49m\u001b[38;5;241;43m.\u001b[39;49m\u001b[43mpresence_of_element_located\u001b[49m\u001b[43m(\u001b[49m\u001b[43m(\u001b[49m\u001b[43mBy\u001b[49m\u001b[38;5;241;43m.\u001b[39;49m\u001b[43mXPATH\u001b[49m\u001b[43m,\u001b[49m\u001b[43m \u001b[49m\u001b[38;5;124;43m'\u001b[39;49m\u001b[38;5;124;43m//div[@class=\u001b[39;49m\u001b[38;5;124;43m\"\u001b[39;49m\u001b[38;5;124;43mm6QErb DxyBCb kA9KIf dS8AEf ecceSd\u001b[39;49m\u001b[38;5;124;43m\"\u001b[39;49m\u001b[38;5;124;43m]\u001b[39;49m\u001b[38;5;124;43m'\u001b[39;49m\u001b[43m)\u001b[49m\u001b[43m)\u001b[49m\n\u001b[0;32m     25\u001b[0m \u001b[43m        \u001b[49m\u001b[43m)\u001b[49m\n\u001b[0;32m     26\u001b[0m         driver\u001b[38;5;241m.\u001b[39mexecute_script(\u001b[38;5;124m\"\u001b[39m\u001b[38;5;124marguments[0].scrollTop = arguments[0].scrollHeight\u001b[39m\u001b[38;5;124m\"\u001b[39m, scrollable_div)\n\u001b[0;32m     27\u001b[0m         time\u001b[38;5;241m.\u001b[39msleep(\u001b[38;5;241m3\u001b[39m)\n",
      "File \u001b[1;32mc:\\Users\\anfiniti\\AppData\\Local\\Programs\\Python\\Python310\\lib\\site-packages\\selenium\\webdriver\\support\\wait.py:146\u001b[0m, in \u001b[0;36mWebDriverWait.until\u001b[1;34m(self, method, message)\u001b[0m\n\u001b[0;32m    144\u001b[0m         \u001b[38;5;28;01mbreak\u001b[39;00m\n\u001b[0;32m    145\u001b[0m     time\u001b[38;5;241m.\u001b[39msleep(\u001b[38;5;28mself\u001b[39m\u001b[38;5;241m.\u001b[39m_poll)\n\u001b[1;32m--> 146\u001b[0m \u001b[38;5;28;01mraise\u001b[39;00m TimeoutException(message, screen, stacktrace)\n",
      "\u001b[1;31mTimeoutException\u001b[0m: Message: \nStacktrace:\nBacktrace:\n\tGetHandleVerifier [0x0035A813+48355]\n\t(No symbol) [0x002EC4B1]\n\t(No symbol) [0x001F5358]\n\t(No symbol) [0x002209A5]\n\t(No symbol) [0x00220B3B]\n\t(No symbol) [0x0024E232]\n\t(No symbol) [0x0023A784]\n\t(No symbol) [0x0024C922]\n\t(No symbol) [0x0023A536]\n\t(No symbol) [0x002182DC]\n\t(No symbol) [0x002193DD]\n\tGetHandleVerifier [0x005BAABD+2539405]\n\tGetHandleVerifier [0x005FA78F+2800735]\n\tGetHandleVerifier [0x005F456C+2775612]\n\tGetHandleVerifier [0x003E51E0+616112]\n\t(No symbol) [0x002F5F8C]\n\t(No symbol) [0x002F2328]\n\t(No symbol) [0x002F240B]\n\t(No symbol) [0x002E4FF7]\n\tBaseThreadInitThunk [0x75547BA9+25]\n\tRtlInitializeExceptionChain [0x773FC0CB+107]\n\tRtlClearBits [0x773FC04F+191]\n"
     ]
    }
   ],
   "source": [
    "from selenium import webdriver\n",
    "from selenium.webdriver.chrome.service import Service  # Import Service untuk mendefinisikan path\n",
    "from selenium.webdriver.common.by import By\n",
    "from selenium.webdriver.support.ui import WebDriverWait\n",
    "from selenium.webdriver.support import expected_conditions as EC\n",
    "import time\n",
    "import csv\n",
    "\n",
    "# Tentukan path ke Chromedriver\n",
    "chromedriver_path = './chromedriver.exe'  # Ubah sesuai lokasi file Anda\n",
    "\n",
    "# Buat objek Service dengan path driver\n",
    "service = Service(chromedriver_path)\n",
    "\n",
    "# Inisialisasi webdriver\n",
    "driver = webdriver.Chrome(service=service)\n",
    "\n",
    "# Buka halaman web\n",
    "driver.get(\"https://www.google.com/maps/place/ITSNU+Pekalongan/@-6.9606099,109.6361072,17z/data=!4m8!3m7!1s0x2e7021b4d2b766bb:0x40dacfe03dd23e15!8m2!3d-6.9606152!4d109.6386821!9m1!1b1!16s%2Fg%2F11fjn8_k61?entry=ttu&g_ep=EgoyMDI1MDEyMi4wIKXMDSoASAFQAw%3D%3D\")\n",
    "\n",
    "def scroll_to_load_reviews():\n",
    "    for _ in range(5):  # Scroll 5 kali\n",
    "        scrollable_div = WebDriverWait(driver, 10).until(\n",
    "            EC.presence_of_element_located((By.XPATH, '//div[@class=\"m6QErb DxyBCb kA9KIf dS8AEf ecceSd\"]'))\n",
    "        )\n",
    "        driver.execute_script(\"arguments[0].scrollTop = arguments[0].scrollHeight\", scrollable_div)\n",
    "        time.sleep(3)  # Tunggu loading selesai\n",
    "\n",
    "# Klik tombol \"Lihat semua ulasan\" jika ada\n",
    "try:\n",
    "    WebDriverWait(driver, 10).until(\n",
    "        EC.element_to_be_clickable((By.XPATH, '//button[contains(text(),\"Lihat semua ulasan\")]'))\n",
    "    ).click()\n",
    "    time.sleep(3)\n",
    "except:\n",
    "    print(\"Tidak ada tombol untuk melihat semua ulasan.\")\n",
    "\n",
    "# Scroll untuk memuat lebih banyak ulasan\n",
    "scroll_to_load_reviews()\n",
    "\n",
    "# Fungsi untuk mengambil ulasan dan bintang\n",
    "def get_reviews_and_stars():\n",
    "    reviews = driver.find_elements(By.XPATH, '//div[@class=\"jftiEf fontBodyMedium\"]')\n",
    "    stars = driver.find_elements(By.XPATH, '//span[@class=\"kvMYJc\"]')\n",
    "\n",
    "    reviews_list = []\n",
    "    for review, star in zip(reviews, stars):\n",
    "        review_text = review.text\n",
    "        star_rating = star.get_attribute(\"aria-label\")\n",
    "        reviews_list.append([review_text, star_rating])\n",
    "\n",
    "    return reviews_list\n",
    "\n",
    "# Ambil ulasan dan bintang\n",
    "reviews_and_stars = get_reviews_and_stars()\n",
    "\n",
    "# Simpan ke CSV\n",
    "csv_file = \"reviews.csv\"\n",
    "with open(csv_file, mode='w', newline='', encoding='utf-8') as file:\n",
    "    writer = csv.writer(file)\n",
    "    writer.writerow([\"Review\", \"Star Rating\"])\n",
    "    writer.writerows(reviews_and_stars)\n",
    "\n",
    "print(f\"Data telah disimpan ke {csv_file}\")\n",
    "\n",
    "# Tutup driver\n",
    "driver.quit()"
   ]
  },
  {
   "cell_type": "code",
   "execution_count": 8,
   "metadata": {},
   "outputs": [
    {
     "name": "stdout",
     "output_type": "stream",
     "text": [
      "Tidak ada tombol untuk melihat semua ulasan.\n"
     ]
    },
    {
     "ename": "NoSuchElementException",
     "evalue": "Message: no such element: Unable to locate element: {\"method\":\"xpath\",\"selector\":\"//div[@class=\"m6QErb DxyBCb kA9KIf dS8AEf ecceSd\"]\"}\n  (Session info: chrome=114.0.5735.199); For documentation on this error, please visit: https://www.selenium.dev/documentation/webdriver/troubleshooting/errors#no-such-element-exception\nStacktrace:\nBacktrace:\n\tGetHandleVerifier [0x0035A813+48355]\n\t(No symbol) [0x002EC4B1]\n\t(No symbol) [0x001F5358]\n\t(No symbol) [0x002209A5]\n\t(No symbol) [0x00220B3B]\n\t(No symbol) [0x0024E232]\n\t(No symbol) [0x0023A784]\n\t(No symbol) [0x0024C922]\n\t(No symbol) [0x0023A536]\n\t(No symbol) [0x002182DC]\n\t(No symbol) [0x002193DD]\n\tGetHandleVerifier [0x005BAABD+2539405]\n\tGetHandleVerifier [0x005FA78F+2800735]\n\tGetHandleVerifier [0x005F456C+2775612]\n\tGetHandleVerifier [0x003E51E0+616112]\n\t(No symbol) [0x002F5F8C]\n\t(No symbol) [0x002F2328]\n\t(No symbol) [0x002F240B]\n\t(No symbol) [0x002E4FF7]\n\tBaseThreadInitThunk [0x75547BA9+25]\n\tRtlInitializeExceptionChain [0x773FC0CB+107]\n\tRtlClearBits [0x773FC04F+191]\n",
     "output_type": "error",
     "traceback": [
      "\u001b[1;31m---------------------------------------------------------------------------\u001b[0m",
      "\u001b[1;31mNoSuchElementException\u001b[0m                    Traceback (most recent call last)",
      "Cell \u001b[1;32mIn[8], line 18\u001b[0m\n\u001b[0;32m     15\u001b[0m     \u001b[38;5;28mprint\u001b[39m(\u001b[38;5;124m\"\u001b[39m\u001b[38;5;124mTidak ada tombol untuk melihat semua ulasan.\u001b[39m\u001b[38;5;124m\"\u001b[39m)\n\u001b[0;32m     17\u001b[0m \u001b[38;5;66;03m# Scroll untuk memuat lebih banyak ulasan\u001b[39;00m\n\u001b[1;32m---> 18\u001b[0m \u001b[43mscroll_to_load_reviews\u001b[49m\u001b[43m(\u001b[49m\u001b[43m)\u001b[49m\n",
      "Cell \u001b[1;32mIn[8], line 6\u001b[0m, in \u001b[0;36mscroll_to_load_reviews\u001b[1;34m()\u001b[0m\n\u001b[0;32m      4\u001b[0m \u001b[38;5;28;01mdef\u001b[39;00m\u001b[38;5;250m \u001b[39m\u001b[38;5;21mscroll_to_load_reviews\u001b[39m():\n\u001b[0;32m      5\u001b[0m     \u001b[38;5;28;01mfor\u001b[39;00m _ \u001b[38;5;129;01min\u001b[39;00m \u001b[38;5;28mrange\u001b[39m(\u001b[38;5;241m5\u001b[39m):  \u001b[38;5;66;03m# Scroll 5 kali\u001b[39;00m\n\u001b[1;32m----> 6\u001b[0m         scrollable_div \u001b[38;5;241m=\u001b[39m \u001b[43mdriver\u001b[49m\u001b[38;5;241;43m.\u001b[39;49m\u001b[43mfind_element\u001b[49m\u001b[43m(\u001b[49m\u001b[43mBy\u001b[49m\u001b[38;5;241;43m.\u001b[39;49m\u001b[43mXPATH\u001b[49m\u001b[43m,\u001b[49m\u001b[43m \u001b[49m\u001b[38;5;124;43m'\u001b[39;49m\u001b[38;5;124;43m//div[@class=\u001b[39;49m\u001b[38;5;124;43m\"\u001b[39;49m\u001b[38;5;124;43mm6QErb DxyBCb kA9KIf dS8AEf ecceSd\u001b[39;49m\u001b[38;5;124;43m\"\u001b[39;49m\u001b[38;5;124;43m]\u001b[39;49m\u001b[38;5;124;43m'\u001b[39;49m\u001b[43m)\u001b[49m\n\u001b[0;32m      7\u001b[0m         driver\u001b[38;5;241m.\u001b[39mexecute_script(\u001b[38;5;124m\"\u001b[39m\u001b[38;5;124marguments[0].scrollTop = arguments[0].scrollHeight\u001b[39m\u001b[38;5;124m\"\u001b[39m, scrollable_div)\n\u001b[0;32m      8\u001b[0m         time\u001b[38;5;241m.\u001b[39msleep(\u001b[38;5;241m3\u001b[39m)\n",
      "File \u001b[1;32mc:\\Users\\anfiniti\\AppData\\Local\\Programs\\Python\\Python310\\lib\\site-packages\\selenium\\webdriver\\remote\\webdriver.py:888\u001b[0m, in \u001b[0;36mWebDriver.find_element\u001b[1;34m(self, by, value)\u001b[0m\n\u001b[0;32m    885\u001b[0m         \u001b[38;5;28;01mraise\u001b[39;00m NoSuchElementException(\u001b[38;5;124mf\u001b[39m\u001b[38;5;124m\"\u001b[39m\u001b[38;5;124mCannot locate relative element with: \u001b[39m\u001b[38;5;132;01m{\u001b[39;00mby\u001b[38;5;241m.\u001b[39mroot\u001b[38;5;132;01m}\u001b[39;00m\u001b[38;5;124m\"\u001b[39m)\n\u001b[0;32m    886\u001b[0m     \u001b[38;5;28;01mreturn\u001b[39;00m elements[\u001b[38;5;241m0\u001b[39m]\n\u001b[1;32m--> 888\u001b[0m \u001b[38;5;28;01mreturn\u001b[39;00m \u001b[38;5;28;43mself\u001b[39;49m\u001b[38;5;241;43m.\u001b[39;49m\u001b[43mexecute\u001b[49m\u001b[43m(\u001b[49m\u001b[43mCommand\u001b[49m\u001b[38;5;241;43m.\u001b[39;49m\u001b[43mFIND_ELEMENT\u001b[49m\u001b[43m,\u001b[49m\u001b[43m \u001b[49m\u001b[43m{\u001b[49m\u001b[38;5;124;43m\"\u001b[39;49m\u001b[38;5;124;43musing\u001b[39;49m\u001b[38;5;124;43m\"\u001b[39;49m\u001b[43m:\u001b[49m\u001b[43m \u001b[49m\u001b[43mby\u001b[49m\u001b[43m,\u001b[49m\u001b[43m \u001b[49m\u001b[38;5;124;43m\"\u001b[39;49m\u001b[38;5;124;43mvalue\u001b[39;49m\u001b[38;5;124;43m\"\u001b[39;49m\u001b[43m:\u001b[49m\u001b[43m \u001b[49m\u001b[43mvalue\u001b[49m\u001b[43m}\u001b[49m\u001b[43m)\u001b[49m[\u001b[38;5;124m\"\u001b[39m\u001b[38;5;124mvalue\u001b[39m\u001b[38;5;124m\"\u001b[39m]\n",
      "File \u001b[1;32mc:\\Users\\anfiniti\\AppData\\Local\\Programs\\Python\\Python310\\lib\\site-packages\\selenium\\webdriver\\remote\\webdriver.py:429\u001b[0m, in \u001b[0;36mWebDriver.execute\u001b[1;34m(self, driver_command, params)\u001b[0m\n\u001b[0;32m    427\u001b[0m response \u001b[38;5;241m=\u001b[39m \u001b[38;5;28mself\u001b[39m\u001b[38;5;241m.\u001b[39mcommand_executor\u001b[38;5;241m.\u001b[39mexecute(driver_command, params)\n\u001b[0;32m    428\u001b[0m \u001b[38;5;28;01mif\u001b[39;00m response:\n\u001b[1;32m--> 429\u001b[0m     \u001b[38;5;28;43mself\u001b[39;49m\u001b[38;5;241;43m.\u001b[39;49m\u001b[43merror_handler\u001b[49m\u001b[38;5;241;43m.\u001b[39;49m\u001b[43mcheck_response\u001b[49m\u001b[43m(\u001b[49m\u001b[43mresponse\u001b[49m\u001b[43m)\u001b[49m\n\u001b[0;32m    430\u001b[0m     response[\u001b[38;5;124m\"\u001b[39m\u001b[38;5;124mvalue\u001b[39m\u001b[38;5;124m\"\u001b[39m] \u001b[38;5;241m=\u001b[39m \u001b[38;5;28mself\u001b[39m\u001b[38;5;241m.\u001b[39m_unwrap_value(response\u001b[38;5;241m.\u001b[39mget(\u001b[38;5;124m\"\u001b[39m\u001b[38;5;124mvalue\u001b[39m\u001b[38;5;124m\"\u001b[39m, \u001b[38;5;28;01mNone\u001b[39;00m))\n\u001b[0;32m    431\u001b[0m     \u001b[38;5;28;01mreturn\u001b[39;00m response\n",
      "File \u001b[1;32mc:\\Users\\anfiniti\\AppData\\Local\\Programs\\Python\\Python310\\lib\\site-packages\\selenium\\webdriver\\remote\\errorhandler.py:232\u001b[0m, in \u001b[0;36mErrorHandler.check_response\u001b[1;34m(self, response)\u001b[0m\n\u001b[0;32m    230\u001b[0m         alert_text \u001b[38;5;241m=\u001b[39m value[\u001b[38;5;124m\"\u001b[39m\u001b[38;5;124malert\u001b[39m\u001b[38;5;124m\"\u001b[39m]\u001b[38;5;241m.\u001b[39mget(\u001b[38;5;124m\"\u001b[39m\u001b[38;5;124mtext\u001b[39m\u001b[38;5;124m\"\u001b[39m)\n\u001b[0;32m    231\u001b[0m     \u001b[38;5;28;01mraise\u001b[39;00m exception_class(message, screen, stacktrace, alert_text)  \u001b[38;5;66;03m# type: ignore[call-arg]  # mypy is not smart enough here\u001b[39;00m\n\u001b[1;32m--> 232\u001b[0m \u001b[38;5;28;01mraise\u001b[39;00m exception_class(message, screen, stacktrace)\n",
      "\u001b[1;31mNoSuchElementException\u001b[0m: Message: no such element: Unable to locate element: {\"method\":\"xpath\",\"selector\":\"//div[@class=\"m6QErb DxyBCb kA9KIf dS8AEf ecceSd\"]\"}\n  (Session info: chrome=114.0.5735.199); For documentation on this error, please visit: https://www.selenium.dev/documentation/webdriver/troubleshooting/errors#no-such-element-exception\nStacktrace:\nBacktrace:\n\tGetHandleVerifier [0x0035A813+48355]\n\t(No symbol) [0x002EC4B1]\n\t(No symbol) [0x001F5358]\n\t(No symbol) [0x002209A5]\n\t(No symbol) [0x00220B3B]\n\t(No symbol) [0x0024E232]\n\t(No symbol) [0x0023A784]\n\t(No symbol) [0x0024C922]\n\t(No symbol) [0x0023A536]\n\t(No symbol) [0x002182DC]\n\t(No symbol) [0x002193DD]\n\tGetHandleVerifier [0x005BAABD+2539405]\n\tGetHandleVerifier [0x005FA78F+2800735]\n\tGetHandleVerifier [0x005F456C+2775612]\n\tGetHandleVerifier [0x003E51E0+616112]\n\t(No symbol) [0x002F5F8C]\n\t(No symbol) [0x002F2328]\n\t(No symbol) [0x002F240B]\n\t(No symbol) [0x002E4FF7]\n\tBaseThreadInitThunk [0x75547BA9+25]\n\tRtlInitializeExceptionChain [0x773FC0CB+107]\n\tRtlClearBits [0x773FC04F+191]\n"
     ]
    }
   ],
   "source": []
  }
 ],
 "metadata": {
  "kernelspec": {
   "display_name": "Python 3",
   "language": "python",
   "name": "python3"
  },
  "language_info": {
   "codemirror_mode": {
    "name": "ipython",
    "version": 3
   },
   "file_extension": ".py",
   "mimetype": "text/x-python",
   "name": "python",
   "nbconvert_exporter": "python",
   "pygments_lexer": "ipython3",
   "version": "3.10.0"
  }
 },
 "nbformat": 4,
 "nbformat_minor": 2
}
